{
 "cells": [
  {
   "cell_type": "code",
   "execution_count": 1,
   "metadata": {},
   "outputs": [],
   "source": [
    "from langchain.text_splitter import RecursiveCharacterTextSplitter\n",
    "import os\n",
    "# os.environ['CURL_CA_BUNDLE'] = ''\n",
    "# os.environ['CA_CERTS'] = '/Users/zhou/Dev_Work/ask_pdf/http_ca.crt'\n",
    "from langchain.document_loaders import PyMuPDFLoader, DirectoryLoader\n",
    "from langchain import ElasticVectorSearch\n",
    "from langchain.embeddings import OpenAIEmbeddings\n",
    "from elasticsearch import Elasticsearch\n",
    "import yaml\n",
    "\n",
    "with open(\"./config.yml\", \"r\") as ymlfile:\n",
    "    cfg = yaml.safe_load(ymlfile)\n",
    "\n",
    "OPENAI_API_KEY = cfg[\"openai\"][\"OPENAI_API_KEY\"]\n",
    "ELASTICSEARCH_URL = cfg[\"es\"][\"elasticsearch_url\"]\n",
    "embeddings = OpenAIEmbeddings(openai_api_key=OPENAI_API_KEY)\n"
   ]
  },
  {
   "cell_type": "code",
   "execution_count": 2,
   "metadata": {},
   "outputs": [],
   "source": [
    "# loader = PyMuPDFLoader(\"Luckin Coffee Fraud  Fundamentally Broken Business.pdf\")\n",
    "\n",
    "loader = DirectoryLoader('/content/pdf', glob=\"**/*.pdf\", loader_cls=PyMuPDFLoader)  # TextLoader\n"
   ]
  },
  {
   "cell_type": "code",
   "execution_count": 3,
   "metadata": {},
   "outputs": [
    {
     "name": "stdout",
     "output_type": "stream",
     "text": [
      "You have 89 document(s) in your data\n",
      "There are 4448 characters in your document\n"
     ]
    }
   ],
   "source": [
    "data = loader.load()\n",
    "print(f'You have {len(data)} document(s) in your data')\n",
    "print(f'There are {len(data[0].page_content)} characters in your document')\n"
   ]
  },
  {
   "cell_type": "code",
   "execution_count": 4,
   "metadata": {},
   "outputs": [
    {
     "name": "stdout",
     "output_type": "stream",
     "text": [
      "Now you have 374 documents\n"
     ]
    }
   ],
   "source": [
    "text_splitter = RecursiveCharacterTextSplitter(\n",
    "    chunk_size=1000, chunk_overlap=200)\n",
    "texts = text_splitter.split_documents(data)\n",
    "print(f'Now you have {len(texts)} documents')\n",
    "# print(texts)\n"
   ]
  },
  {
   "attachments": {},
   "cell_type": "markdown",
   "metadata": {},
   "source": [
    "<!-- 新建 -->"
   ]
  },
  {
   "cell_type": "code",
   "execution_count": 9,
   "metadata": {},
   "outputs": [
    {
     "name": "stdout",
     "output_type": "stream",
     "text": [
      "Total Tokens: 0\n",
      "Prompt Tokens: 0\n",
      "Completion Tokens: 0\n",
      "Total Cost (USD): $0.0\n"
     ]
    }
   ],
   "source": [
    "docsearch = ElasticVectorSearch.from_texts(\n",
    "    texts=[t.page_content for t in texts],\n",
    "    embedding=embeddings,\n",
    "    metadatas=[t.metadata for t in texts],\n",
    "    elasticsearch_url=ELASTICSEARCH_URL,\n",
    "    index_name=\"mmc2\"\n",
    ")  # namespace\n"
   ]
  },
  {
   "attachments": {},
   "cell_type": "markdown",
   "metadata": {},
   "source": [
    "<!-- 向原有索引添加 -->"
   ]
  },
  {
   "cell_type": "code",
   "execution_count": null,
   "metadata": {},
   "outputs": [],
   "source": [
    "elastic_vector_search = ElasticVectorSearch(\n",
    "    elasticsearch_url=ELASTICSEARCH_URL,\n",
    "    index_name=\"mmc2\",\n",
    "    embedding=embeddings,\n",
    ")\n",
    "\n",
    "elastic_vector_search.add_texts(\n",
    "    texts=[t.page_content for t in texts],\n",
    "    embedding=embeddings,\n",
    "    metadatas=[t.metadata for t in texts],\n",
    "    elasticsearch_url=ELASTICSEARCH_URL,\n",
    "    refresh_indices=True,\n",
    ")\n"
   ]
  }
 ],
 "metadata": {
  "kernelspec": {
   "display_name": "基因富集分析-DLi-HjL2",
   "language": "python",
   "name": "python3"
  },
  "language_info": {
   "codemirror_mode": {
    "name": "ipython",
    "version": 3
   },
   "file_extension": ".py",
   "mimetype": "text/x-python",
   "name": "python",
   "nbconvert_exporter": "python",
   "pygments_lexer": "ipython3",
   "version": "3.9.16"
  },
  "orig_nbformat": 4
 },
 "nbformat": 4,
 "nbformat_minor": 2
}
