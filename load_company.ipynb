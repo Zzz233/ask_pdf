{
 "cells": [
  {
   "cell_type": "code",
   "execution_count": 1,
   "metadata": {},
   "outputs": [],
   "source": [
    "from langchain.text_splitter import RecursiveCharacterTextSplitter\n",
    "import os\n",
    "# os.environ['CURL_CA_BUNDLE'] = ''\n",
    "# os.environ['CA_CERTS'] = '/Users/zhou/Dev_Work/ask_pdf/http_ca.crt'\n",
    "from langchain.document_loaders import UnstructuredFileLoader\n",
    "from langchain import ElasticVectorSearch\n",
    "from langchain.embeddings import OpenAIEmbeddings\n",
    "from elasticsearch import Elasticsearch\n",
    "import yaml\n",
    "\n",
    "with open(\"./config.yml\", \"r\") as ymlfile:\n",
    "    cfg = yaml.safe_load(ymlfile)\n",
    "\n",
    "OPENAI_API_KEY = cfg[\"openai\"][\"OPENAI_API_KEY\"]\n",
    "ELASTICSEARCH_URL = cfg[\"es\"][\"elasticsearch_url\"]\n",
    "embeddings = OpenAIEmbeddings(openai_api_key=OPENAI_API_KEY)\n"
   ]
  },
  {
   "cell_type": "code",
   "execution_count": 2,
   "metadata": {},
   "outputs": [],
   "source": [
    "loader = UnstructuredFileLoader(\"/Users/zhou/Dev_Work/ask_pdf/x.txt\")\n"
   ]
  },
  {
   "cell_type": "code",
   "execution_count": 3,
   "metadata": {},
   "outputs": [
    {
     "name": "stdout",
     "output_type": "stream",
     "text": [
      "You have 1 document(s) in your data\n",
      "There are 685546 characters in your document\n"
     ]
    }
   ],
   "source": [
    "data = loader.load()\n",
    "print(f'You have {len(data)} document(s) in your data')\n",
    "print(f'There are {len(data[0].page_content)} characters in your document')\n"
   ]
  },
  {
   "cell_type": "code",
   "execution_count": 4,
   "metadata": {},
   "outputs": [
    {
     "name": "stdout",
     "output_type": "stream",
     "text": [
      "Now you have 789 documents\n"
     ]
    }
   ],
   "source": [
    "text_splitter = RecursiveCharacterTextSplitter(\n",
    "    chunk_size=1000, chunk_overlap=0)\n",
    "texts = text_splitter.split_documents(data)\n",
    "print(f'Now you have {len(texts)} documents')\n",
    "# print(texts)\n"
   ]
  },
  {
   "cell_type": "code",
   "execution_count": 7,
   "metadata": {},
   "outputs": [],
   "source": [
    "docsearch = ElasticVectorSearch.from_texts(\n",
    "    texts=[t.page_content for t in texts],\n",
    "    embedding=embeddings,\n",
    "    metadatas=[t.metadata for t in texts],\n",
    "    elasticsearch_url=ELASTICSEARCH_URL,\n",
    "    index_name=\"company\"\n",
    ")  # namespace\n"
   ]
  }
 ],
 "metadata": {
  "kernelspec": {
   "display_name": "基因富集分析-DLi-HjL2",
   "language": "python",
   "name": "python3"
  },
  "language_info": {
   "codemirror_mode": {
    "name": "ipython",
    "version": 3
   },
   "file_extension": ".py",
   "mimetype": "text/x-python",
   "name": "python",
   "nbconvert_exporter": "python",
   "pygments_lexer": "ipython3",
   "version": "3.9.16"
  },
  "orig_nbformat": 4
 },
 "nbformat": 4,
 "nbformat_minor": 2
}
